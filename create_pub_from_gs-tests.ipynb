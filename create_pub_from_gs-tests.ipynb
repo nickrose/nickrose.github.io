{
 "cells": [
  {
   "cell_type": "code",
   "execution_count": 4,
   "metadata": {
    "ExecuteTime": {
     "end_time": "2019-03-28T23:40:40.684788Z",
     "start_time": "2019-03-28T23:40:40.681862Z"
    }
   },
   "outputs": [],
   "source": [
    "from create_pubs import get_souped_data, get_pub_data, default_pub_url, SEARCH, create_pub_jemdoc\n",
    "import pickle"
   ]
  },
  {
   "cell_type": "code",
   "execution_count": 6,
   "metadata": {
    "ExecuteTime": {
     "end_time": "2019-03-28T23:41:01.176223Z",
     "start_time": "2019-03-28T23:40:56.345973Z"
    },
    "scrolled": false
   },
   "outputs": [
    {
     "name": "stderr",
     "output_type": "stream",
     "text": [
      "100%|██████████| 18/18 [00:02<00:00,  7.57it/s]"
     ]
    },
    {
     "name": "stdout",
     "output_type": "stream",
     "text": [
      "wrote publication data to: test.jemdoc\n"
     ]
    },
    {
     "name": "stderr",
     "output_type": "stream",
     "text": [
      "\n"
     ]
    }
   ],
   "source": [
    "create_pub_jemdoc(fileout='test.jemdoc')\n",
    "# pubd, raw = get_pub_data(default_pub_url, debug=0)"
   ]
  },
  {
   "cell_type": "code",
   "execution_count": 7,
   "metadata": {
    "ExecuteTime": {
     "end_time": "2019-03-28T23:41:04.743976Z",
     "start_time": "2019-03-28T23:41:04.735307Z"
    },
    "scrolled": false
   },
   "outputs": [
    {
     "data": {
      "text/plain": [
       "{'author': 'N Roseveare',\n",
       " 'title': 'Tracking and Phase Identification of Targets in Nonlinear Motion',\n",
       " 'linkdata': 'https://scholar.google.com/citations?view_op=view_citation&hl=en&oe=ASCII&user=aBYncN4AAAAJ&sortby=pubdate&citation_for_view=aBYncN4AAAAJ:M7yex6snE4oC',\n",
       " 'citations': '',\n",
       " 'citelinks': '',\n",
       " 'year': 2008,\n",
       " 'venue': '',\n",
       " 'pdf_link': 'https://sites.google.com/site/nicholasjroseveare/research/Roseveare08-FilteringEstmTheory-finalProjReport-TrackingNonLin.pdf'}"
      ]
     },
     "execution_count": 7,
     "metadata": {},
     "output_type": "execute_result"
    }
   ],
   "source": [
    "pubd[17]"
   ]
  },
  {
   "cell_type": "code",
   "execution_count": 8,
   "metadata": {
    "ExecuteTime": {
     "end_time": "2019-03-28T23:41:09.325714Z",
     "start_time": "2019-03-28T23:41:09.153922Z"
    }
   },
   "outputs": [
    {
     "name": "stdout",
     "output_type": "stream",
     "text": [
      "None\n"
     ]
    },
    {
     "data": {
      "text/plain": [
       "<div class=\"gsc_vcd_value\">40th IEEE International Conference on Acoustics, Speech and Signal Processing (ICASSP)</div>"
      ]
     },
     "execution_count": 8,
     "metadata": {},
     "output_type": "execute_result"
    }
   ],
   "source": [
    "pub_info_page, r = get_souped_data(pubd[2]['linkdata'])\n",
    "dets = pub_info_page.find_all(\n",
    "                'div', SEARCH.make_cond(SEARCH.pubdetails))\n",
    "print(dets[2].find('div', SEARCH.make_cond('gsh_small')))\n",
    "dets[2]"
   ]
  },
  {
   "cell_type": "code",
   "execution_count": null,
   "metadata": {},
   "outputs": [],
   "source": []
  }
 ],
 "metadata": {
  "hide_input": false,
  "kernelspec": {
   "display_name": "Python 3",
   "language": "python",
   "name": "python3"
  },
  "language_info": {
   "codemirror_mode": {
    "name": "ipython",
    "version": 3
   },
   "file_extension": ".py",
   "mimetype": "text/x-python",
   "name": "python",
   "nbconvert_exporter": "python",
   "pygments_lexer": "ipython3",
   "version": "3.7.2"
  },
  "latex_envs": {
   "LaTeX_envs_menu_present": true,
   "autoclose": false,
   "autocomplete": true,
   "bibliofile": "biblio.bib",
   "cite_by": "apalike",
   "current_citInitial": 1,
   "eqLabelWithNumbers": true,
   "eqNumInitial": 1,
   "hotkeys": {
    "equation": "Ctrl-E",
    "itemize": "Ctrl-I"
   },
   "labels_anchors": false,
   "latex_user_defs": false,
   "report_style_numbering": false,
   "user_envs_cfg": false
  }
 },
 "nbformat": 4,
 "nbformat_minor": 2
}
