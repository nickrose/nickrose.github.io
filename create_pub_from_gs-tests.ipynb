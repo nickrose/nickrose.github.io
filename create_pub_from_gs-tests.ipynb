{
 "cells": [
  {
   "cell_type": "code",
   "execution_count": 1,
   "metadata": {
    "ExecuteTime": {
     "end_time": "2019-04-05T23:41:24.746406Z",
     "start_time": "2019-04-05T23:41:24.264577Z"
    }
   },
   "outputs": [],
   "source": [
    "from create_pubs import get_souped_data, get_pub_data, default_pub_url, SEARCH, create_pub_jemdoc\n",
    "import pickle"
   ]
  },
  {
   "cell_type": "code",
   "execution_count": 2,
   "metadata": {
    "ExecuteTime": {
     "end_time": "2019-04-05T23:41:29.294877Z",
     "start_time": "2019-04-05T23:41:24.832620Z"
    },
    "scrolled": false
   },
   "outputs": [
    {
     "name": "stderr",
     "output_type": "stream",
     "text": [
      "100%|██████████| 18/18 [00:02<00:00,  7.83it/s]\n"
     ]
    }
   ],
   "source": [
    "# create_pub_jemdoc(fileout='test.jemdoc')\n",
    "pubd, raw = get_pub_data(default_pub_url, debug=0)"
   ]
  },
  {
   "cell_type": "code",
   "execution_count": 3,
   "metadata": {
    "ExecuteTime": {
     "end_time": "2019-04-05T23:41:30.298659Z",
     "start_time": "2019-04-05T23:41:30.288490Z"
    },
    "scrolled": false
   },
   "outputs": [
    {
     "data": {
      "text/plain": [
       "{'author': 'N Roseveare, B Natarajan',\n",
       " 'title': 'An alternative perspective on utility maximization in energy harvesting wireless wensor networks',\n",
       " 'linkdata': 'https://scholar.google.com/citations?view_op=view_citation&hl=en&oe=ASCII&user=aBYncN4AAAAJ&sortby=pubdate&citation_for_view=aBYncN4AAAAJ:Tyk-4Ss8FVUC',\n",
       " 'citations': '22',\n",
       " 'citelinks': 'https://scholar.google.com/scholar?oi=bibs&hl=en&oe=ASCII&cites=10404438255647889368',\n",
       " 'year': 2014,\n",
       " 'venue': 'IEEE Transactions on Vehicular Technology 63 (1), 344 - 356',\n",
       " 'pubdate': '2014',\n",
       " 'pdf_link': 'https://www.doctor-doc.org/version1.0/openurl.do?sid=google&auinit=N&aulast=Roseveare&atitle=An+alternative+perspective+on+utility+maximization+in+energy-harvesting+wireless+sensor+networks&id=doi:10.1109/TVT.2013.2272245&title=IEEE+Transactions+on+Vehicular+Communications&volume=63&issue=1&date=2014&spage=344&issn=0018-9545'}"
      ]
     },
     "execution_count": 3,
     "metadata": {},
     "output_type": "execute_result"
    }
   ],
   "source": [
    "pubd[4]"
   ]
  },
  {
   "cell_type": "code",
   "execution_count": 7,
   "metadata": {
    "ExecuteTime": {
     "end_time": "2019-04-05T23:42:00.844289Z",
     "start_time": "2019-04-05T23:42:00.678565Z"
    }
   },
   "outputs": [
    {
     "data": {
      "text/plain": [
       "<div class=\"gsc_vcd_value\" id=\"gsc_vcd_descr\"><div class=\"gsh_small\">We present an analysis of optimization problems in energy-harvesting wireless sensor networks (EH-WSNs), and motivated by the underlying structure of these problems, we provide an intuitive algorithmic solution. Although, on one hand, there exist excellent analytic solutions for EH problems cast in a utility maximization framework and, on the other hand, there are many efficient numerical iterative solutions for solving complex or unstructured constrained utility maximization problems, neither of these approaches provides analytical intuition concerning the behavior of a more general (complex many varied constraints) constrained utility maximization problem. We deliver our general solution to the concave utility maximization problem for EH-WSNs and illustrate the well-known solutions of special equivalent problems. Both distributed estimation and rate allocation find solutions in our constrained utility …</div></div>"
      ]
     },
     "execution_count": 7,
     "metadata": {},
     "output_type": "execute_result"
    }
   ],
   "source": [
    "pub_info_page, r = get_souped_data(pubd[4]['linkdata'])\n",
    "dets = pub_info_page.find_all(\n",
    "                'div', SEARCH.make_cond(SEARCH.pubdetails))\n",
    "# print the abstract\n",
    "dets[7]"
   ]
  },
  {
   "cell_type": "code",
   "execution_count": null,
   "metadata": {},
   "outputs": [],
   "source": []
  }
 ],
 "metadata": {
  "hide_input": false,
  "kernelspec": {
   "display_name": "Python 3",
   "language": "python",
   "name": "python3"
  },
  "language_info": {
   "codemirror_mode": {
    "name": "ipython",
    "version": 3
   },
   "file_extension": ".py",
   "mimetype": "text/x-python",
   "name": "python",
   "nbconvert_exporter": "python",
   "pygments_lexer": "ipython3",
   "version": "3.7.2"
  },
  "latex_envs": {
   "LaTeX_envs_menu_present": true,
   "autoclose": false,
   "autocomplete": true,
   "bibliofile": "biblio.bib",
   "cite_by": "apalike",
   "current_citInitial": 1,
   "eqLabelWithNumbers": true,
   "eqNumInitial": 1,
   "hotkeys": {
    "equation": "Ctrl-E",
    "itemize": "Ctrl-I"
   },
   "labels_anchors": false,
   "latex_user_defs": false,
   "report_style_numbering": false,
   "user_envs_cfg": false
  }
 },
 "nbformat": 4,
 "nbformat_minor": 2
}
